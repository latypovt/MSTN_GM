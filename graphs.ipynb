{
 "cells": [
  {
   "cell_type": "code",
   "execution_count": null,
   "metadata": {},
   "outputs": [],
   "source": [
    "import pandas as pd\n",
    "import numpy as np\n",
    "import matplotlib.pyplot as plt\n",
    "import matplotlib\n",
    "import seaborn as sns\n",
    "import json\n",
    "\n",
    "feature_names = json.loads(open('utils/lut_dict.txt').read())\n"
   ]
  },
  {
   "cell_type": "code",
   "execution_count": null,
   "metadata": {},
   "outputs": [],
   "source": [
    "matplotlib.font_manager.findfont('Humor Sans')\n"
   ]
  },
  {
   "cell_type": "code",
   "execution_count": null,
   "metadata": {},
   "outputs": [],
   "source": [
    "# HISTOGRAM\n",
    "#############################################################\n",
    "\n",
    "# create dataframes\n",
    "important_features = pd.read_csv(\"out/important_features.csv\")\n",
    "\n",
    "# rename columns \n",
    "important_features = important_features.rename(columns={'feature': 'importance'})\n",
    "important_features = important_features.rename(columns={'Unnamed: 0': 'feature'})\n",
    "\n",
    "# save names of features where importance >=5 to a list called top_features\n",
    "top_features = important_features[important_features['importance'] >= 5]\n",
    "top_features = top_features['feature'].tolist()\n",
    "\n",
    "#make list of importance of all features in top_features\n",
    "top_features_importance = important_features[important_features['feature'].isin(top_features)]\n",
    "top_features_importance = top_features_importance['importance'].tolist()\n",
    "\n",
    "# reading LUT\n",
    "region_names = np.array(list([feature_names[feature] for feature in important_features['feature']]))\n",
    "\n",
    "# add label column\n",
    "important_features['feature type'] = np.where(important_features['feature'].str.contains('thickness'), \"thickness\", \n",
    "                                       np.where(important_features['feature'].str.contains('area'), \"area\", None))\n",
    "important_features['feature'] = region_names\n"
   ]
  },
  {
   "cell_type": "code",
   "execution_count": null,
   "metadata": {},
   "outputs": [],
   "source": [
    "# generate histogram\n",
    "with plt.xkcd():\n",
    "    ax1 = sns.catplot(data=important_features, kind=\"bar\", x=\"importance\", y=\"feature\", height=15, hue=\"feature type\", dodge=False)\n",
    "    plt.xticks([0,1,2,3,4,5,6,7,8,9,10])    \n",
    "    plt.savefig('out/important_features.png', dpi=300)\n",
    "    plt.clf()"
   ]
  },
  {
   "cell_type": "code",
   "execution_count": null,
   "metadata": {},
   "outputs": [],
   "source": [
    "# FEATURE WEIGHTS\n",
    "#############################################################\n",
    "\n",
    "# make a graph to visualize the feature weights data in outs folder ([fold]_feature_weights.csv)\n",
    "#load df from all folds and merge into one dataframe\n",
    "\n",
    "#create new dataframe for each fold file\n",
    "\n",
    "dataframes = []  # List to store the dataframes\n",
    "\n",
    "for i in range(0,10):\n",
    "    filename=('out/{}_feature_weights.csv'.format(i))\n",
    "     # Generate the filename\n",
    "    df = pd.read_csv(filename)  # Read the CSV file into a dataframe\n",
    "    dataframes.append(df)\n",
    "\n",
    "# rename first column of each dataframe to fold #\n",
    "for i in range(0,10):\n",
    "    dataframes[i] = dataframes[i].rename(columns={'Unnamed: 0': 'fold #'})\n",
    "    dataframes[i]['fold #'] = i\n",
    "\n",
    "# merge all 10 dataframes within dataframes list into a single dataframe\n",
    "all_weights = pd.concat(dataframes)\n",
    "\n",
    "# replace NaNs with 0s and drop fold # column for graphing\n",
    "all_weights = all_weights.fillna(0)\n",
    "\n",
    "all_weights.head()\n"
   ]
  },
  {
   "cell_type": "code",
   "execution_count": null,
   "metadata": {},
   "outputs": [],
   "source": [
    "# melt\n",
    "all_weights = pd.melt(all_weights, id_vars=['fold #'], var_name='feature', value_name='weight')\n",
    "print(all_weights)"
   ]
  },
  {
   "cell_type": "code",
   "execution_count": null,
   "metadata": {},
   "outputs": [],
   "source": [
    "# keep only top weights / replace column headers with feature_names from lut_dict.txt\n",
    "top_weights = all_weights[all_weights['feature'].isin(top_features)]\n",
    "\n",
    "region_names = np.array(list([feature_names[feature] for feature in top_weights['feature']]))\n",
    "top_weights['feature'] = region_names\n",
    "\n",
    "# abs value\n",
    "top_weights['weight'] = top_weights['weight'].abs()"
   ]
  },
  {
   "cell_type": "code",
   "execution_count": null,
   "metadata": {},
   "outputs": [],
   "source": [
    "# boxplot of the dataframe where y=weight and x=feature\n",
    "\n",
    "fig = plt.figure(figsize=(11, 5))\n",
    "#sns.set(rc={'figure.figsize':(20, 8)})\n",
    "with plt.xkcd():\n",
    "    sns.boxplot(data=top_weights, x=\"feature\", y=\"weight\",orient=\"v\", palette=\"pastel\", order=top_weights.groupby('feature').mean()\n",
    "                .sort_values('weight', ascending=False).index, showmeans=True, meanprops={\"marker\":\"o\",\"markerfacecolor\":\"white\", \n",
    "                                                                                            \"markersize\":\"20\", \"markeredgecolor\":\"gray\", \"markeredgewidth\":\"2\"})\n",
    "    # store means of boxplot in a list\n",
    "    means = []\n",
    "    for i, _ in  enumerate(top_features):\n",
    "        means.append((top_weights.groupby('feature').mean().sort_values('weight', ascending=False)['weight'][i]))\n",
    "\n",
    "    plt.xlabel('Feature')\n",
    "    plt.ylabel('Weight (abs. value)')\n",
    "    plt.title('Top Feature Weights', size=20)\n",
    "    plt.xticks(rotation=30)\n",
    "    sns.stripplot(data=top_weights, x=\"feature\", y=\"weight\", color=\"gray\", zorder=1, size=4, jitter=0.2, order=top_weights.groupby('feature')\n",
    "                .mean().sort_values('weight', ascending=False).index)\n",
    "\n",
    "    # add text labels corresponding to top_features_importance at each of the means\n",
    "    for i,_ in enumerate(top_features):\n",
    "        plt.text(x=i, y=(means[i]-0.005), s=top_features_importance[i], color='gray', ha=\"center\", fontsize=12)\n",
    "\n",
    "    plt.savefig('out/feature_weights.png', dpi=300, bbox_inches='tight')\n",
    "    plt.show()\n",
    "    plt.clf()\n"
   ]
  }
 ],
 "metadata": {
  "kernelspec": {
   "display_name": "Python 3",
   "language": "python",
   "name": "python3"
  },
  "language_info": {
   "codemirror_mode": {
    "name": "ipython",
    "version": 3
   },
   "file_extension": ".py",
   "mimetype": "text/x-python",
   "name": "python",
   "nbconvert_exporter": "python",
   "pygments_lexer": "ipython3",
   "version": "3.10.6"
  },
  "orig_nbformat": 4,
  "vscode": {
   "interpreter": {
    "hash": "e7370f93d1d0cde622a1f8e1c04877d8463912d04d973331ad4851f04de6915a"
   }
  }
 },
 "nbformat": 4,
 "nbformat_minor": 2
}
