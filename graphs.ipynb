{
 "cells": [
  {
   "cell_type": "code",
   "execution_count": null,
   "metadata": {},
   "outputs": [],
   "source": [
    "import pandas as pd\n",
    "import numpy as np\n",
    "import matplotlib.pyplot as plt\n",
    "import seaborn as sns\n",
    "import json\n",
    "\n",
    "# create dataframes\n",
    "important_features = pd.read_csv(\"out/important_features.csv\")\n",
    "\n",
    "# rename columns \n",
    "important_features = important_features.rename(columns={'feature': 'importance'})\n",
    "important_features = important_features.rename(columns={'Unnamed: 0': 'feature'})\n",
    "\n",
    "# reading LUT\n",
    "feature_names = json.loads(open('utils/lut_dict.txt').read())\n",
    "region_names = np.array(list([feature_names[feature] for feature in important_features['feature']]))\n",
    "\n",
    "# add label column\n",
    "important_features['feature type'] = np.where(important_features['feature'].str.contains('thickness'), \"thickness\", \n",
    "                                       np.where(important_features['feature'].str.contains('area'), \"area\", None))\n",
    "important_features['feature'] = region_names\n",
    "\n",
    "# generate histogram\n",
    "with plt.xkcd():\n",
    "    ax = sns.catplot(data=important_features, kind=\"bar\", x=\"importance\", y=\"feature\", height=15, hue=\"feature type\", dodge=False)\n",
    "    plt.xticks([0,1,2,3,4,5,6,7,8,9,10])    \n",
    "    plt.savefig('out/important_features.png', dpi=300)"
   ]
  }
 ],
 "metadata": {
  "kernelspec": {
   "display_name": "Python 3",
   "language": "python",
   "name": "python3"
  },
  "language_info": {
   "codemirror_mode": {
    "name": "ipython",
    "version": 3
   },
   "file_extension": ".py",
   "mimetype": "text/x-python",
   "name": "python",
   "nbconvert_exporter": "python",
   "pygments_lexer": "ipython3",
   "version": "3.10.6"
  },
  "orig_nbformat": 4,
  "vscode": {
   "interpreter": {
    "hash": "e7370f93d1d0cde622a1f8e1c04877d8463912d04d973331ad4851f04de6915a"
   }
  }
 },
 "nbformat": 4,
 "nbformat_minor": 2
}
