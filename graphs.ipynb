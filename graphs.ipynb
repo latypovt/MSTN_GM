{
 "cells": [
  {
   "cell_type": "code",
   "execution_count": 105,
   "metadata": {},
   "outputs": [
    {
     "ename": "ValueError",
     "evalue": "min() arg is an empty sequence",
     "output_type": "error",
     "traceback": [
      "\u001b[0;31m---------------------------------------------------------------------------\u001b[0m",
      "\u001b[0;31mValueError\u001b[0m                                Traceback (most recent call last)",
      "Cell \u001b[0;32mIn[105], line 20\u001b[0m\n\u001b[1;32m     18\u001b[0m \u001b[39m# generate histogram\u001b[39;00m\n\u001b[1;32m     19\u001b[0m \u001b[39mwith\u001b[39;00m plt\u001b[39m.\u001b[39mxkcd():\n\u001b[0;32m---> 20\u001b[0m     sns\u001b[39m.\u001b[39;49mcatplot(data\u001b[39m=\u001b[39;49mimportant_features, kind\u001b[39m=\u001b[39;49m\u001b[39m\"\u001b[39;49m\u001b[39mbar\u001b[39;49m\u001b[39m\"\u001b[39;49m, x\u001b[39m=\u001b[39;49m\u001b[39m\"\u001b[39;49m\u001b[39mimportance\u001b[39;49m\u001b[39m\"\u001b[39;49m, y\u001b[39m=\u001b[39;49m\u001b[39m\"\u001b[39;49m\u001b[39mfeature\u001b[39;49m\u001b[39m\"\u001b[39;49m, height\u001b[39m=\u001b[39;49m\u001b[39m20\u001b[39;49m, hue\u001b[39m=\u001b[39;49m\u001b[39m\"\u001b[39;49m\u001b[39mfeature_type\u001b[39;49m\u001b[39m\"\u001b[39;49m)\n",
      "File \u001b[0;32m~/anaconda3/lib/python3.10/site-packages/seaborn/categorical.py:3211\u001b[0m, in \u001b[0;36mcatplot\u001b[0;34m(data, x, y, hue, row, col, col_wrap, estimator, errorbar, n_boot, units, seed, order, hue_order, row_order, col_order, height, aspect, kind, native_scale, formatter, orient, color, palette, hue_norm, legend, legend_out, sharex, sharey, margin_titles, facet_kws, ci, **kwargs)\u001b[0m\n\u001b[1;32m   3205\u001b[0m hue_order \u001b[39m=\u001b[39m p\u001b[39m.\u001b[39mhue_names\n\u001b[1;32m   3207\u001b[0m \u001b[39m# Determine the palette to use\u001b[39;00m\n\u001b[1;32m   3208\u001b[0m \u001b[39m# (FacetGrid will pass a value for ``color`` to the plotting function\u001b[39;00m\n\u001b[1;32m   3209\u001b[0m \u001b[39m# so we need to define ``palette`` to get default behavior for the\u001b[39;00m\n\u001b[1;32m   3210\u001b[0m \u001b[39m# categorical functions\u001b[39;00m\n\u001b[0;32m-> 3211\u001b[0m p\u001b[39m.\u001b[39;49mestablish_colors(color, palette, \u001b[39m1\u001b[39;49m)\n\u001b[1;32m   3212\u001b[0m \u001b[39mif\u001b[39;00m kind \u001b[39m!=\u001b[39m \u001b[39m\"\u001b[39m\u001b[39mpoint\u001b[39m\u001b[39m\"\u001b[39m \u001b[39mor\u001b[39;00m hue \u001b[39mis\u001b[39;00m \u001b[39mnot\u001b[39;00m \u001b[39mNone\u001b[39;00m:\n\u001b[1;32m   3213\u001b[0m     palette \u001b[39m=\u001b[39m p\u001b[39m.\u001b[39mcolors\n",
      "File \u001b[0;32m~/anaconda3/lib/python3.10/site-packages/seaborn/categorical.py:707\u001b[0m, in \u001b[0;36m_CategoricalPlotter.establish_colors\u001b[0;34m(self, color, palette, saturation)\u001b[0m\n\u001b[1;32m    705\u001b[0m \u001b[39m# Determine the gray color to use for the lines framing the plot\u001b[39;00m\n\u001b[1;32m    706\u001b[0m light_vals \u001b[39m=\u001b[39m [rgb_to_hls(\u001b[39m*\u001b[39mc)[\u001b[39m1\u001b[39m] \u001b[39mfor\u001b[39;00m c \u001b[39min\u001b[39;00m rgb_colors]\n\u001b[0;32m--> 707\u001b[0m lum \u001b[39m=\u001b[39m \u001b[39mmin\u001b[39;49m(light_vals) \u001b[39m*\u001b[39m \u001b[39m.6\u001b[39m\n\u001b[1;32m    708\u001b[0m gray \u001b[39m=\u001b[39m mpl\u001b[39m.\u001b[39mcolors\u001b[39m.\u001b[39mrgb2hex((lum, lum, lum))\n\u001b[1;32m    710\u001b[0m \u001b[39m# Assign object attributes\u001b[39;00m\n",
      "\u001b[0;31mValueError\u001b[0m: min() arg is an empty sequence"
     ]
    }
   ],
   "source": [
    "import pandas as pd\n",
    "import numpy as np\n",
    "import matplotlib.pyplot as plt\n",
    "import seaborn as sns\n",
    "\n",
    "# create dataframes\n",
    "important_features = pd.read_csv(\"out/important_features.csv\")\n",
    "\n",
    "# rename columns \n",
    "important_features = important_features.rename(columns={'feature': 'importance'})\n",
    "important_features = important_features.rename(columns={'Unnamed: 0': 'feature'})\n",
    "\n",
    "# add label column\n",
    "important_features['feature_type'] = np.where(important_features['feature'].str.contains('thickness'), 1, \n",
    "                                       np.where(important_features['feature'].str.contains('area'), 2, None))\n",
    "\n",
    "\n",
    "# generate histogram\n",
    "with plt.xkcd():\n",
    "    sns.catplot(data=important_features, kind=\"bar\", x=\"importance\", y=\"feature\", height=20, hue=\"feature_type\")\n",
    "\n",
    "# to do:\n",
    "# 1. make dataframe based on condition (if contains str(thickess) assign label 1, if (area) assign label 2, use as hue)"
   ]
  },
  {
   "cell_type": "code",
   "execution_count": null,
   "metadata": {},
   "outputs": [],
   "source": []
  }
 ],
 "metadata": {
  "kernelspec": {
   "display_name": "base",
   "language": "python",
   "name": "python3"
  },
  "language_info": {
   "codemirror_mode": {
    "name": "ipython",
    "version": 3
   },
   "file_extension": ".py",
   "mimetype": "text/x-python",
   "name": "python",
   "nbconvert_exporter": "python",
   "pygments_lexer": "ipython3",
   "version": "3.10.9"
  },
  "orig_nbformat": 4
 },
 "nbformat": 4,
 "nbformat_minor": 2
}
